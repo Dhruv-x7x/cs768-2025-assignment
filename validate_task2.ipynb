{
 "cells": [
  {
   "cell_type": "code",
   "execution_count": 67,
   "metadata": {},
   "outputs": [],
   "source": [
    "import os\n",
    "import re\n",
    "import networkx as nx\n",
    "import matplotlib.pyplot as plt\n",
    "from tqdm import tqdm\n",
    "import random\n",
    "from sklearn.feature_extraction.text import TfidfVectorizer\n",
    "from sklearn.metrics.pairwise import cosine_similarity\n",
    "from sklearn.model_selection import train_test_split"
   ]
  },
  {
   "cell_type": "code",
   "execution_count": 69,
   "metadata": {},
   "outputs": [],
   "source": [
    "def normalize(text):\n",
    "    \"\"\"\n",
    "    Normalize text by removing non-alphanumeric chars and lowercasing.\n",
    "    \"\"\"\n",
    "    return re.sub(r'\\W+', '', text).lower()\n",
    "\n",
    "\n",
    "def parse_bib_titles(bib_path):\n",
    "    \"\"\"\n",
    "    Naively parse a .bib file to extract titles.\n",
    "    \"\"\"\n",
    "    titles = []\n",
    "    with open(bib_path, 'r', encoding='utf-8', errors='ignore') as f:\n",
    "        text = f.read()\n",
    "    # Split entries by '@'\n",
    "    entries = text.split('@')[1:]\n",
    "    for entry in entries:\n",
    "        for line in entry.splitlines():\n",
    "            if line.strip().lower().startswith('title'):\n",
    "                parts = line.split('=', 1)\n",
    "                if len(parts) == 2:\n",
    "                    val = parts[1].strip().rstrip(',').strip()\n",
    "                    # Remove enclosing braces\n",
    "                    if val.startswith('{') and val.endswith('}'):\n",
    "                        val = val[1:-1]\n",
    "                    titles.append(val)\n",
    "                break\n",
    "    return titles"
   ]
  },
  {
   "cell_type": "code",
   "execution_count": 70,
   "metadata": {},
   "outputs": [
    {
     "name": "stdout",
     "output_type": "stream",
     "text": [
      "Indexing paper titles...\n"
     ]
    },
    {
     "name": "stderr",
     "output_type": "stream",
     "text": [
      "  0%|          | 0/6545 [00:00<?, ?it/s]"
     ]
    },
    {
     "name": "stderr",
     "output_type": "stream",
     "text": [
      "100%|██████████| 6545/6545 [00:02<00:00, 2451.57it/s]\n"
     ]
    }
   ],
   "source": [
    "class Args:\n",
    "    def __init__(self):\n",
    "        self.dataset_path = \"dataset_papers\"\n",
    "args = Args()\n",
    "dataset_dir = args.dataset_path\n",
    "\n",
    "# Build title -> folder mapping\n",
    "title_map = {}\n",
    "print(\"Indexing paper titles...\")\n",
    "for folder in tqdm(os.listdir(dataset_dir)):\n",
    "    folder_path = os.path.join(dataset_dir, folder)\n",
    "    if os.path.isdir(folder_path):\n",
    "        title_file = os.path.join(folder_path, 'title.txt')\n",
    "        if os.path.isfile(title_file):\n",
    "            with open(title_file, 'r', encoding='utf-8', errors='ignore') as f:\n",
    "                title = f.read().strip()\n",
    "            norm = normalize(title)\n",
    "            title_map[norm] = folder"
   ]
  },
  {
   "cell_type": "code",
   "execution_count": 71,
   "metadata": {},
   "outputs": [
    {
     "name": "stdout",
     "output_type": "stream",
     "text": [
      "Parsing bibliographies and adding edges...\n"
     ]
    },
    {
     "name": "stderr",
     "output_type": "stream",
     "text": [
      "Processing papers:   0%|          | 0/6545 [00:00<?, ?it/s]"
     ]
    },
    {
     "name": "stderr",
     "output_type": "stream",
     "text": [
      "Processing papers: 100%|██████████| 6545/6545 [00:56<00:00, 116.49it/s] \n"
     ]
    }
   ],
   "source": [
    "# Initialize directed graph\n",
    "G = nx.DiGraph()\n",
    "G.add_nodes_from(title_map.values())\n",
    "\n",
    "# Parse bibliographies and add edges\n",
    "print(\"Parsing bibliographies and adding edges...\")\n",
    "for folder in tqdm(title_map.values(), desc=\"Processing papers\"):\n",
    "    folder_path = os.path.join(dataset_dir, folder)\n",
    "    # Look for .bib file\n",
    "    bib_files = [f for f in os.listdir(folder_path) if f.endswith('.bib')]\n",
    "    if bib_files:\n",
    "        bib_path = os.path.join(folder_path, bib_files[0])\n",
    "        cited_titles = parse_bib_titles(bib_path)\n",
    "    else:\n",
    "        cited_titles = []\n",
    "\n",
    "    for cited in cited_titles:\n",
    "        norm = normalize(cited)\n",
    "        if norm in title_map:\n",
    "            G.add_edge(folder, title_map[norm])"
   ]
  },
  {
   "cell_type": "code",
   "execution_count": 72,
   "metadata": {},
   "outputs": [],
   "source": [
    "dataset_dir = os.path.join(\"dataset_papers\")\n",
    "dataset = os.listdir(dataset_dir)"
   ]
  },
  {
   "cell_type": "code",
   "execution_count": 78,
   "metadata": {},
   "outputs": [],
   "source": [
    "def get_docs(folders):\n",
    "    papers, docs = [], []\n",
    "    for folder in folders:\n",
    "        fp = os.path.join(dataset_dir, folder)\n",
    "        tfile = os.path.join(fp, \"title.txt\")\n",
    "        afile = os.path.join(fp, \"abstract.txt\")\n",
    "        if os.path.isdir(fp) and os.path.isfile(tfile) and os.path.isfile(afile):\n",
    "            with open(tfile, 'r', encoding='utf-8', errors='ignore') as f:\n",
    "                t = f.read().strip()\n",
    "            with open(afile, 'r', encoding='utf-8', errors='ignore') as f:\n",
    "                a = f.read().strip()\n",
    "            papers.append(folder)\n",
    "            docs.append(t + \" \" + a)\n",
    "    return papers, docs"
   ]
  },
  {
   "cell_type": "code",
   "execution_count": 91,
   "metadata": {},
   "outputs": [],
   "source": [
    "def func(K):\n",
    "    overall = []\n",
    "    for i in range(10):\n",
    "        train, test = train_test_split(dataset, test_size=0.2)\n",
    "        \n",
    "        papers, docs = get_docs(train)\n",
    "\n",
    "        vectorizer = TfidfVectorizer(stop_words='english', max_features=10000)\n",
    "        tfidf_mat = vectorizer.fit_transform(docs)\n",
    "\n",
    "        test_docs = get_docs(test)[1]\n",
    "        test_vec = vectorizer.transform(test_docs)\n",
    "        \n",
    "        sims = cosine_similarity(test_vec, tfidf_mat)\n",
    "        \n",
    "        # K = 5\n",
    "        result = [[papers[i] for i in sim.argsort()[::-1][:K]] for sim in sims]\n",
    "        \n",
    "        recall = 0\n",
    "        cnt = 0\n",
    "        for pred, t in zip(result, test):\n",
    "            true = set(G.successors(t))\n",
    "            if len(true):\n",
    "                recall += len(set(pred).intersection(true)) / len(true)\n",
    "                cnt += 1\n",
    "        \n",
    "        overall.append(recall / cnt)\n",
    "    return overall"
   ]
  },
  {
   "cell_type": "code",
   "execution_count": 92,
   "metadata": {},
   "outputs": [],
   "source": [
    "x = list(range(5, 55, 5))\n",
    "y = [func(k) for k in x]"
   ]
  },
  {
   "cell_type": "code",
   "execution_count": 101,
   "metadata": {},
   "outputs": [
    {
     "data": {
      "image/png": "[encoded data removed]",
      "text/plain": [
       "<Figure size 640x480 with 1 Axes>"
      ]
     },
     "metadata": {},
     "output_type": "display_data"
    }
   ],
   "source": [
    "data = y\n",
    "x_values = x\n",
    "\n",
    "plt.boxplot(data, positions=x_values, widths=2)\n",
    "plt.plot(x, [sum(y_) / len(y_) for y_ in y])\n",
    "plt.title(\"Recall @ K vs K\")\n",
    "plt.xlabel(\"K\")\n",
    "plt.ylabel(\"Recall @ K\")\n",
    "plt.xticks(x_values)\n",
    "plt.savefig(\"plot.png\")"
   ]
  }
 ],
 "metadata": {
  "kernelspec": {
   "display_name": "cs768",
   "language": "python",
   "name": "python3"
  },
  "language_info": {
   "codemirror_mode": {
    "name": "ipython",
    "version": 3
   },
   "file_extension": ".py",
   "mimetype": "text/x-python",
   "name": "python",
   "nbconvert_exporter": "python",
   "pygments_lexer": "ipython3",
   "version": "3.13.2"
  }
 },
 "nbformat": 4,
 "nbformat_minor": 2
}
